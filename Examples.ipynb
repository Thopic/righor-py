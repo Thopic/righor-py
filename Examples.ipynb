{
 "cells": [
  {
   "cell_type": "code",
   "execution_count": 1,
   "id": "b094cf45",
   "metadata": {},
   "outputs": [],
   "source": [
    "import righor\n",
    "import matplotlib.pyplot as plt\n",
    "import seaborn\n",
    "import pandas as pd\n",
    "from tqdm.notebook import tqdm\n",
    "from collections import Counter\n",
    "import numpy as np\n",
    "\n",
    "# load the model\n",
    "igor_model = righor.load_model(\"human\", \"tra\")\n",
    "\n",
    "# alternatively, you can load a model from igor files \n",
    "# igor_model = righor.load_model_from_files(params.txt, marginals.txt, anchor_v.csv, anchor_j.csv)"
   ]
  },
  {
   "cell_type": "code",
   "execution_count": 2,
   "id": "f8236adc",
   "metadata": {},
   "outputs": [
    {
     "data": {
      "application/vnd.jupyter.widget-view+json": {
       "model_id": "bcf2ba669c44484a9976ea268b11df32",
       "version_major": 2,
       "version_minor": 0
      },
      "text/plain": [
       "  0%|          | 0/10000 [00:00<?, ?it/s]"
      ]
     },
     "metadata": {},
     "output_type": "display_data"
    },
    {
     "name": "stdout",
     "output_type": "stream",
     "text": [
      "TRB CDR3 containing \"IGH\": CALIGHSIKAAGNKLTF\n",
      "\n",
      "Result:\n",
      "GenerationResult(\n",
      "CDR3 (nucletides): TGTGCAGAGTTCGCCACCACCAATGCAGGCAAATCAACCTTT,\n",
      "CDR3 (amino-acids): CAEFATTNAGKSTF,\n",
      "Full sequence (nucleotides): GGAGAGGATGTGGAGCAGAGTCTTTTCCTG...,\n",
      "V gene: TRAV5*01,\n",
      "J gene: TRAJ27*01)\n",
      "\t\t \n",
      "Explicit recombination event:\n",
      "StaticEvent(\n",
      "nb. del. on V3: 8,\n",
      "nb. del. on J5: 8,\n",
      "V-J insertions: TTCGCCACC)\n"
     ]
    }
   ],
   "source": [
    "## Generate sequences\n",
    "\n",
    "# Create a generator object\n",
    "generator = igor_model.generator(seed=42) # or igor_model.generator() to run it without a seed\n",
    "\n",
    "# Generate 10'000 functional sequences (not out-of-frame, no stop codons, right boundaries)\n",
    "for _ in tqdm(range(10000)):\n",
    "    # generate_without_errors ignore Igor error model, use \"generate\" if this is needed\n",
    "    sequence = generator.generate_without_errors(functional=True)\n",
    "    if \"IGH\" in sequence.cdr3_aa:\n",
    "        print(\"TRB CDR3 containing \\\"IGH\\\":\", sequence.cdr3_aa)\n",
    "\n",
    "print()\n",
    "\n",
    "# Generate one sequence with a particular V/J genes family \n",
    "V_genes = righor.genes_matching(\"TRAV5\", igor_model) # all the V genes that match TRBV5\n",
    "J_genes = righor.genes_matching(\"TRAJ\", igor_model) # all the J genes\n",
    "generator = igor_model.generator(seed=42, available_v=V_genes, available_j=J_genes) \n",
    "generation_result = generator.generate_without_errors(functional=True)\n",
    "print(\"Result:\")\n",
    "print(generation_result)\n",
    "print(\"Explicit recombination event:\")\n",
    "print(generation_result.recombination_event)"
   ]
  },
  {
   "cell_type": "code",
   "execution_count": 3,
   "id": "bf489c1a",
   "metadata": {},
   "outputs": [
    {
     "name": "stdout",
     "output_type": "stream",
     "text": [
      "Probability that this specific event chain created the sequence: 0.59.\n",
      "Reconstructed sequence (without errors): AGTCAACAGGGAGAAGAGGATCCTCAGGCCTTGAGCATCCAGGAGGGTGAAAATGCCACCATGAACTGCAGTTACAAAACTAGTATAAACAATTTACAGTGGTATAGACAAAATTCAGGTAGAGGCCTTGTCCACCTAATTTTAATACGTTCAAATGAAAGAGAGAAACACAGTGGAAGATTAAGAGTCACGCTTGACACTTCCAAGAAAAGCAGTTCCTTGTTGATCACGGCTTCCCGGGCAGCAGACACTGCTTCTTACTTCTGTGCCAGCAGTGAGGACAGGGACGTCACTAAATACATCTTTGGAACAGGCACCAGGCTGAAGGTTTTAGCAA\n",
      "Pgen: 3.1e-27\n"
     ]
    }
   ],
   "source": [
    "## Evaluate a given sequence\n",
    "\n",
    "my_sequence = \"ACCCTCCAGTCTGCCAGGCCCTCACATACCTCTCAGTACCTCTGTGCCAGCAGTGAGGACAGGGACGTCACTGAAGCTTTCTTTGGACAAGGCACC\"\n",
    "\n",
    "# first align the sequence\n",
    "align_params = righor.AlignmentParameters() # default alignment parameters\n",
    "aligned_sequence = igor_model.align_sequence(my_sequence, align_params)\n",
    "\n",
    "# then evaluate it\n",
    "infer_params = righor.InferenceParameters() # default inference parameters\n",
    "result_inference = igor_model.evaluate(aligned_sequence, infer_params)\n",
    "\n",
    "# Most likely scenario\n",
    "best_event = result_inference.best_event\n",
    "\n",
    "print(f\"Probability that this specific event chain created the sequence: {best_event.likelihood / result_inference.likelihood:.2f}.\")\n",
    "print(f\"Reconstructed sequence (without errors):\", best_event.reconstructed_sequence)\n",
    "print(f\"Pgen: {result_inference.pgen:.1e}\")"
   ]
  },
  {
   "cell_type": "code",
   "execution_count": 4,
   "id": "f4d67a05",
   "metadata": {},
   "outputs": [],
   "source": [
    "## infer a complete model \n",
    "\n",
    "# here we just generate the sequences needed\n",
    "generator = igor_model.generator()\n",
    "sequences = [generator.generate(False).full_seq for _ in range(10000)]\n",
    "\n",
    "# define parameters for the alignment and the inference\n",
    "align_params = righor.AlignmentParameters()\n",
    "infer_params = righor.InferenceParameters()\n",
    "\n",
    "# generate an uniform model as a starting point \n",
    "# (it's generally faster to start from an already inferred model)\n",
    "model = igor_model.uniform()\n"
   ]
  },
  {
   "cell_type": "code",
   "execution_count": 5,
   "id": "c3ea4386",
   "metadata": {},
   "outputs": [],
   "source": [
    "# align multiple sequences at once (takes ~1min)\n",
    "aligned_sequences = model.align_all_sequences(sequences, align_params)"
   ]
  },
  {
   "cell_type": "code",
   "execution_count": null,
   "id": "9e816adb",
   "metadata": {},
   "outputs": [],
   "source": [
    "# multiple round of expectation-maximization to infer the model (takes ~1min)\n",
    "models = {}\n",
    "models[0] = model\n",
    "for ii in tqdm(range(10)):\n",
    "    models[ii+1] = models[ii].copy()\n",
    "    models[ii+1].infer(aligned_sequences, infer_params)\n"
   ]
  },
  {
   "cell_type": "code",
   "execution_count": null,
   "id": "b60816e0",
   "metadata": {},
   "outputs": [],
   "source": [
    "fig, ax = plt.subplots()\n",
    "ax.scatter(range(igor_model.p_del_j_given_j.shape[0]), models[9].p_del_j_given_j.sum(axis=1))\n",
    "ax.scatter(range(igor_model.p_del_j_given_j.shape[0]), igor_model.p_del_j_given_j.sum(axis=1))"
   ]
  },
  {
   "cell_type": "code",
   "execution_count": null,
   "id": "0447fe48",
   "metadata": {},
   "outputs": [],
   "source": [
    "fig, ax = plt.subplots()\n",
    "ax.scatter(range(igor_model.p_ins_vj.shape[0]), models[9].p_ins_vj)\n",
    "ax.scatter(range(igor_model.p_ins_vj.shape[0]), igor_model.p_ins_vj)"
   ]
  },
  {
   "cell_type": "code",
   "execution_count": null,
   "id": "2af79aad",
   "metadata": {},
   "outputs": [],
   "source": [
    "fig, ax = plt.subplots()\n",
    "ax.scatter(range(igor_model.p_del_v_given_v.shape[0]), models[9].p_del_v_given_v.sum(axis=1))\n",
    "ax.scatter(range(igor_model.p_del_v_given_v.shape[0]), igor_model.p_del_v_given_v.sum(axis=1))"
   ]
  },
  {
   "cell_type": "code",
   "execution_count": null,
   "id": "ff3a49db",
   "metadata": {},
   "outputs": [],
   "source": [
    "models[9].error_rate, igor_model.error_rate"
   ]
  },
  {
   "cell_type": "code",
   "execution_count": null,
   "id": "7b7cf2b2",
   "metadata": {},
   "outputs": [],
   "source": []
  }
 ],
 "metadata": {
  "kernelspec": {
   "display_name": "Python 3 (ipykernel)",
   "language": "python",
   "name": "python3"
  },
  "language_info": {
   "codemirror_mode": {
    "name": "ipython",
    "version": 3
   },
   "file_extension": ".py",
   "mimetype": "text/x-python",
   "name": "python",
   "nbconvert_exporter": "python",
   "pygments_lexer": "ipython3",
   "version": "3.10.10"
  }
 },
 "nbformat": 4,
 "nbformat_minor": 5
}
