{
 "cells": [
  {
   "cell_type": "code",
   "execution_count": null,
   "id": "359bf2b1-0e1f-4e47-a1ad-7965c95f7335",
   "metadata": {},
   "outputs": [],
   "source": [
    "import righor\n",
    "import matplotlib.pyplot as plt\n",
    "import seaborn\n",
    "import pandas as pd\n",
    "from tqdm.notebook import tqdm\n",
    "from collections import Counter\n",
    "import numpy as np\n",
    "import os\n",
    "os.environ[\"RUST_BACKTRACE\"] = \"1\"\n",
    "\n",
    "# load the model\n",
    "igor_model = righor.load_model(\"human\", \"trb\")\n",
    "# no error\n",
    "igor_model.error = righor.ErrorParameters.constant_error(0.0)"
   ]
  },
  {
   "cell_type": "code",
   "execution_count": null,
   "id": "481a3ab0-deb2-4f8c-9928-d1c45ca3ff53",
   "metadata": {},
   "outputs": [],
   "source": [
    "# test generic nucleotide\n",
    "alignment = righor.AlignmentParameters\n",
    "\n",
    "alignment = righor.AlignmentParameters()\n",
    "alignment.left_v_cutoff = 600\n",
    "alignment.max_error_d = 200\n",
    "alignment.min_score_v = -20\n",
    "alignment.min_score_j = 0\n",
    "\n",
    "my_sequence =     f\"GAAGCCCAAGTGACCCAGAACCCAAGATACCTCATCACAGTGACTGGAAAGAAGTTAACAGTGACTTGTTCTCAGAATATGAACCATGAGTATATGTCCTGGTATCGACAAGACCCAGGGCTGGGCTTAAGGCAGATCTACTATTCAATGAATGTTGAGGTGACTGATAAGGGAGATGTTCCTGAAGGGTACAAAGTCTCTCGAAAAGAGAAGAGGAATTTCCCCCTGATCCTGGAGTCGCCCAGCCCCAACCAGACCTCTCTGTACTTCTGTGCCAGCCGACNNGACAGCTAACTATGGCTACACCTTCGGTTCGGGGACCAGGTTAACCGTTGTAG\"\n",
    "result_inference = igor_model.evaluate(my_sequence, align_params=alignment)\n",
    "print(\"Generic nucleotide test: \", result_inference.likelihood)\n",
    "\n",
    "s = 0\n",
    "result = {}\n",
    "for a in 'ATGC':\n",
    "    for b in 'ATGC':\n",
    "        my_seq  = f\"GAAGCCCAAGTGACCCAGAACCCAAGATACCTCATCACAGTGACTGGAAAGAAGTTAACAGTGACTTGTTCTCAGAATATGAACCATGAGTATATGTCCTGGTATCGACAAGACCCAGGGCTGGGCTTAAGGCAGATCTACTATTCAATGAATGTTGAGGTGACTGATAAGGGAGATGTTCCTGAAGGGTACAAAGTCTCTCGAAAAGAGAAGAGGAATTTCCCCCTGATCCTGGAGTCGCCCAGCCCCAACCAGACCTCTCTGTACTTCTGTGCCAGCCGAC{a}{b}GACAGCTAACTATGGCTACACCTTCGGTTCGGGGACCAGGTTAACCGTTGTAG\"\n",
    "        result_inference = igor_model.evaluate(my_seq, align_params=alignment)\n",
    "        result[a] = result_inference.likelihood\n",
    "        s += result_inference.likelihood\n",
    "        print(result_inference.likelihood)\n",
    "print(\"Comparison with sum of likelihood: \",  s)"
   ]
  },
  {
   "cell_type": "code",
   "execution_count": null,
   "id": "2eb10aa5-9d39-437f-803b-9b3e1ae5a724",
   "metadata": {},
   "outputs": [],
   "source": [
    "## comparison between the pgen of an amino-acid sequence \n",
    "## and the sum over all corresponding nucleotide sequence\n",
    "\n",
    "aa_cdr3 = \"CARNYEQYF\"\n",
    "Vs = righor.genes_matching('TRBV23', igor_model)\n",
    "Js = righor.genes_matching('TRBJ2-3', igor_model)\n",
    "\n",
    "# sum the likelihood of all possible nucleotides sequence for the CDR3\n",
    "all_nts = list(righor.aa_to_n(aa_cdr3))\n",
    "s = sum(igor_model.evaluate((righor.Dna(seq), Vs, Js)).likelihood for seq in tqdm(all_nts))\n",
    "\n",
    "# compute the amino-acid likelihood\n",
    "result_aa = igor_model.evaluate((righor.AminoAcid(aa_cdr3), Vs, Js))\n",
    "print(s, result_aa.likelihood)\n",
    "\n"
   ]
  }
 ],
 "metadata": {
  "kernelspec": {
   "display_name": "Python 3 (ipykernel)",
   "language": "python",
   "name": "python3"
  },
  "language_info": {
   "codemirror_mode": {
    "name": "ipython",
    "version": 3
   },
   "file_extension": ".py",
   "mimetype": "text/x-python",
   "name": "python",
   "nbconvert_exporter": "python",
   "pygments_lexer": "ipython3",
   "version": "3.12.0"
  }
 },
 "nbformat": 4,
 "nbformat_minor": 5
}
